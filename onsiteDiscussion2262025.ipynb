{
 "cells": [
  {
   "cell_type": "markdown",
   "metadata": {},
   "source": [
    "Convolution - 3 parts: feature extraction, compression, classification network\n",
    "3x3 matrix: different variations have different outputs\n",
    "\n",
    "Image Processing \n",
    "\n",
    "Set of hand-written images, you specify a matrix that will be added as a filter\n",
    "Ex. a filter that will identify the head of number '9'\n",
    "\n",
    "Extracting information from the image, then compressed from 5x7 compressed to a 3x3 filter(can be sa mata sa koala, baba, or kamot) and then it will become a Feature Map. \n",
    "Filters are feature detectors.\n",
    "Loopy pattern, Vertical line, Diagonal line detectors. \n",
    "Feature Maps becomes our data and then compile then we can use that data to create a classification of what a Koala looks like or a number 9.\n",
    "\n",
    "If we compute the extraction time, taas gihapon ug computational time but yes mugamay ang classification network kay nakagamay man ang convolutional process. \n",
    "\n",
    "One way of doing this is, we COMPRESS THE VALUES. \n",
    "From Filter - > Convolutional Process -> Activation Function (relu is zero or more so multiplying zero is zero) - > Normalized\n",
    "BUT we still have a lot of computational.\n",
    "\n",
    "SO the POOLING LAYER is used to reduce the size. To compress furthur the key feature maps to make a smaller key values. 2x2 filter with stride = 2.\n",
    "After the 2x2 square , you just get the maximum pooling, or the MAXIMUM POSITIVE NUMBER. if stride is 1 , 3x2 iyang output. \n",
    "\n",
    "Minimum pooling, average pooling.\n",
    "BENEFITS OF POOLING\n",
    "- Reduces dimensions and comutation. \n",
    "- Reduces overfitting as there are less parameters\n",
    "- Model is tolerant towards variations, distortions.\n",
    "\n",
    "Filter -> Convolution + RelU -> Pooling -> Convolution + RelU -> Pooling -> Flatten(1 dimension) = Is this Koala? - Classification (8 or 9 if the images are high definition images)\n",
    "\n",
    "How did we identify that it is the ears, nose, or eyes? Neural Network or the convolutional layers is still a neural network, so siya na bahala unsa nga properties naa diha. SO convolutiona + RelU will identify. EACH are layered set of neural network.\n",
    "\n",
    "CONVOLUTION \n",
    "- Connections sparsity reduces overfitting\n",
    "- Conv + pooling gives location invariant feature detection\n",
    "- Parameter sharing\n",
    "\n",
    "RelU\n",
    "- Introduces nonlinearity\n",
    "- Speeds up training, faster to compute\n",
    "\n",
    "Pooling \n",
    "- redues dimensions and computation\n",
    "- reduces overfitting\n",
    "- makes the model tolerant towards variations, distortions.\n",
    "\n",
    "CNN by itself doesn't take care of rotation and scale\n",
    "- you need to have rotated, scales samples in training dataset\n",
    "- if you don't have such samples then use data augmentation methods to generate new rotated/sampled data. \n"
   ]
  }
 ],
 "metadata": {
  "language_info": {
   "name": "python"
  }
 },
 "nbformat": 4,
 "nbformat_minor": 2
}
