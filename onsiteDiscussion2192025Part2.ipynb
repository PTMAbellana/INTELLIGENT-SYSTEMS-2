{
 "cells": [
  {
   "cell_type": "markdown",
   "metadata": {},
   "source": [
    "1. Confusion Matrix summarizes the number of correfct predictions of the model. It also helps in computing different other performance metrics through positive tp and negative tp.\n",
    "\n",
    "2. Accuracy = TP + TN / Total number observation\n",
    "\n",
    "3. Precision \"out of all the yes prediction how many of them are correct.\" \n",
    "    Precision = TP / TP + FP\n",
    "4. Sensitivity = TP / TP + FN\n",
    "5. Specificity = TN / TN + FP\n",
    "6. F1 Score ; DO NOT LEAN TOWARDS ACCURACY, there's a possibility will be correct pero sayup, daghan siyag false positive.\n",
    "    F1 Score = 2 * [(Precision * Recall S(ensitivity))/ (Precision + Recall)]"
   ]
  },
  {
   "cell_type": "code",
   "execution_count": null,
   "metadata": {
    "vscode": {
     "languageId": "plaintext"
    }
   },
   "outputs": [],
   "source": []
  }
 ],
 "metadata": {
  "language_info": {
   "name": "python"
  }
 },
 "nbformat": 4,
 "nbformat_minor": 2
}
