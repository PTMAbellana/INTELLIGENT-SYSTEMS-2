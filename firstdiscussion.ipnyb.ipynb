{
 "cells": [
  {
   "cell_type": "code",
   "execution_count": 5,
   "metadata": {},
   "outputs": [
    {
     "name": "stdout",
     "output_type": "stream",
     "text": [
      "1.71\n",
      "[[ 1.68  1.71]\n",
      " [59.2  63.6 ]]\n",
      "(4, 2)\n",
      "[100.   97.2]\n"
     ]
    }
   ],
   "source": [
    "import numpy as np\n",
    "\n",
    "# np_height_in = np.array(height_in)\n",
    "# np_weight_lb = np.array(weight_lb)\n",
    "\n",
    "# print(np_height_in)\n",
    "\n",
    "# print(np_weight_lb[50])\n",
    "      \n",
    "# print(np_height_in[100:111])\n",
    "\n",
    "np_2d = np.array([[1.73, 1.68, 1.71, 1.89, 1.79],\n",
    "                  [65.4, 59.2, 63.6, 88.4, 68.7]])\n",
    "print(np_2d[0][2])\n",
    "print(np_2d[:, 1:3])\n",
    "\n",
    "baseball = [[180, 78.4],\n",
    "            [215, 102.7],\n",
    "            [210, 98.5],\n",
    "            [100, 97.2]]\n",
    "np_baseball = np.array(baseball)\n",
    "print(np_baseball.shape)\n",
    "print(np_baseball[3, :]) #print out hte 4th row of np_baseball\n",
    "# print(np_baseball[49][:]) \n",
    "# np.mean(array)\n",
    "# np.median\n",
    "# plt.scatter(year, pop)\n",
    "# more honest way of plotting the data\n",
    "# print(year[-1])\n",
    "# printing the last item from year and poppein\n",
    "\n",
    "\n",
    "# import matplotlib.pyplot as plt\n",
    "# plt.plot(year, pop)\n",
    "# plt.show\n",
    "\n"
   ]
  }
 ],
 "metadata": {
  "kernelspec": {
   "display_name": "Python 3",
   "language": "python",
   "name": "python3"
  },
  "language_info": {
   "codemirror_mode": {
    "name": "ipython",
    "version": 3
   },
   "file_extension": ".py",
   "mimetype": "text/x-python",
   "name": "python",
   "nbconvert_exporter": "python",
   "pygments_lexer": "ipython3",
   "version": "3.12.5"
  }
 },
 "nbformat": 4,
 "nbformat_minor": 2
}
